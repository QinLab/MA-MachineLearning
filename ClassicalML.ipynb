{
  "nbformat": 4,
  "nbformat_minor": 0,
  "metadata": {
    "colab": {
      "name": "ClassicalML.ipynb",
      "provenance": [],
      "mount_file_id": "1oyXsv1TKjfwHW83XFWr8DoFvRXCXrVDU",
      "authorship_tag": "ABX9TyMAaiV5AsZo6RhTyOtcGsF7",
      "include_colab_link": true
    },
    "kernelspec": {
      "name": "python3",
      "display_name": "Python 3"
    },
    "language_info": {
      "name": "python"
    }
  },
  "cells": [
    {
      "cell_type": "markdown",
      "metadata": {
        "id": "view-in-github",
        "colab_type": "text"
      },
      "source": [
        "<a href=\"https://colab.research.google.com/github/mrartis1/MA-MachineLearning/blob/main/ClassicalML.ipynb\" target=\"_parent\"><img src=\"https://colab.research.google.com/assets/colab-badge.svg\" alt=\"Open In Colab\"/></a>"
      ]
    },
    {
      "cell_type": "code",
      "execution_count": 1,
      "metadata": {
        "id": "ZajPUddMOGeR"
      },
      "outputs": [],
      "source": [
        "import pandas as pd\n",
        "from sklearn.metrics import (precision_score, recall_score,f1_score, accuracy_score,mean_squared_error,mean_absolute_error)\n"
      ]
    },
    {
      "cell_type": "code",
      "source": [
        "traindata = pd.read_csv('/content/drive/MyDrive/i-d-master/classical/expected.txt', header=None)\n",
        "\n",
        "testdata = pd.read_csv('/content/drive/MyDrive/i-d-master/classical/predictedlabelAB.txt', header=None)\n",
        "\n"
      ],
      "metadata": {
        "id": "wy3bBwX-Og4Y"
      },
      "execution_count": 2,
      "outputs": []
    },
    {
      "cell_type": "code",
      "source": [
        "y_train1 = traindata\n",
        "y_pred = testdata\n",
        "accuracy = accuracy_score(y_train1, y_pred)\n",
        "recall = recall_score(y_train1, y_pred , average=\"binary\")\n",
        "precision = precision_score(y_train1, y_pred , average=\"binary\")\n",
        "f1 = f1_score(y_train1, y_pred, average=\"binary\")\n",
        "\n",
        "print(\"ABresults\")\n",
        "print(\"accuracy\")\n",
        "print(\"%.3f\" %accuracy)\n",
        "print(\"precision\")\n",
        "print(\"%.3f\" %precision)\n",
        "print(\"racall\")\n",
        "print(\"%.3f\" %recall)\n",
        "print(\"f1score\")\n",
        "print(\"%.3f\" %f1)\n",
        "\n"
      ],
      "metadata": {
        "colab": {
          "base_uri": "https://localhost:8080/"
        },
        "id": "6HzAqmr-OvvM",
        "outputId": "9b7cc841-ecf7-4a1c-de4c-20d51b0ea38c"
      },
      "execution_count": 4,
      "outputs": [
        {
          "output_type": "stream",
          "name": "stdout",
          "text": [
            "ABresults\n",
            "accuracy\n",
            "0.925\n",
            "precision\n",
            "0.995\n",
            "racall\n",
            "0.911\n",
            "f1score\n",
            "0.951\n"
          ]
        }
      ]
    },
    {
      "cell_type": "code",
      "source": [
        "testdata = pd.read_csv('/content/drive/MyDrive/i-d-master/classical/predictedlabelDT.txt', header=None)\n",
        "\n",
        "\n",
        "\n",
        "y_train1 = traindata\n",
        "y_pred = testdata\n",
        "accuracy = accuracy_score(y_train1, y_pred)\n",
        "recall = recall_score(y_train1, y_pred , average=\"binary\")\n",
        "precision = precision_score(y_train1, y_pred , average=\"binary\")\n",
        "f1 = f1_score(y_train1, y_pred, average=\"binary\")\n",
        "\n",
        "print(\"DTresults\")\n",
        "print(\"accuracy\")\n",
        "print(\"%.3f\" %accuracy)\n",
        "print(\"precision\")\n",
        "print(\"%.3f\" %precision)\n",
        "print(\"racall\")\n",
        "print(\"%.3f\" %recall)\n",
        "print(\"f1score\")\n",
        "print(\"%.3f\" %f1)"
      ],
      "metadata": {
        "colab": {
          "base_uri": "https://localhost:8080/"
        },
        "id": "0dkoX5DHO4Pe",
        "outputId": "d76db5d6-b683-4032-98fe-00e7aa3aac5a"
      },
      "execution_count": 5,
      "outputs": [
        {
          "output_type": "stream",
          "name": "stdout",
          "text": [
            "DTresults\n",
            "accuracy\n",
            "0.930\n",
            "precision\n",
            "0.999\n",
            "racall\n",
            "0.915\n",
            "f1score\n",
            "0.955\n"
          ]
        }
      ]
    },
    {
      "cell_type": "code",
      "source": [
        "testdata = pd.read_csv('/content/drive/MyDrive/i-d-master/classical/predictedlabelKNN.txt', header=None)\n",
        "\n",
        "\n",
        "\n",
        "y_train1 = traindata\n",
        "y_pred = testdata\n",
        "accuracy = accuracy_score(y_train1, y_pred)\n",
        "recall = recall_score(y_train1, y_pred , average=\"binary\")\n",
        "precision = precision_score(y_train1, y_pred , average=\"binary\")\n",
        "f1 = f1_score(y_train1, y_pred, average=\"binary\")\n",
        "\n",
        "print(\"KNNresults\")\n",
        "print(\"accuracy\")\n",
        "print(\"%.3f\" %accuracy)\n",
        "print(\"precision\")\n",
        "print(\"%.3f\" %precision)\n",
        "print(\"racall\")\n",
        "print(\"%.3f\" %recall)\n",
        "print(\"f1score\")\n",
        "print(\"%.3f\" %f1)"
      ],
      "metadata": {
        "colab": {
          "base_uri": "https://localhost:8080/"
        },
        "id": "CjRwXgcfO9RL",
        "outputId": "e047d60b-57fb-4018-88e2-5aac9d72c336"
      },
      "execution_count": 6,
      "outputs": [
        {
          "output_type": "stream",
          "name": "stdout",
          "text": [
            "KNNresults\n",
            "accuracy\n",
            "0.929\n",
            "precision\n",
            "0.998\n",
            "racall\n",
            "0.913\n",
            "f1score\n",
            "0.954\n"
          ]
        }
      ]
    },
    {
      "cell_type": "code",
      "source": [
        "testdata = pd.read_csv('/content/drive/MyDrive/i-d-master/classical/predictedlabelLR.txt', header=None)\n",
        "\n",
        "\n",
        "\n",
        "y_train1 = traindata\n",
        "y_pred = testdata\n",
        "accuracy = accuracy_score(y_train1, y_pred)\n",
        "recall = recall_score(y_train1, y_pred , average=\"binary\")\n",
        "precision = precision_score(y_train1, y_pred , average=\"binary\")\n",
        "f1 = f1_score(y_train1, y_pred, average=\"binary\")\n",
        "\n",
        "print(\"LRresults\")\n",
        "print(\"accuracy\")\n",
        "print(\"%.3f\" %accuracy)\n",
        "print(\"precision\")\n",
        "print(\"%.3f\" %precision)\n",
        "print(\"racall\")\n",
        "print(\"%.3f\" %recall)\n",
        "print(\"f1score\")\n",
        "print(\"%.3f\" %f1)"
      ],
      "metadata": {
        "colab": {
          "base_uri": "https://localhost:8080/"
        },
        "id": "J74qI9R4PDMH",
        "outputId": "fac80721-ef7a-44cf-8817-3eafff7770fd"
      },
      "execution_count": 7,
      "outputs": [
        {
          "output_type": "stream",
          "name": "stdout",
          "text": [
            "LRresults\n",
            "accuracy\n",
            "0.846\n",
            "precision\n",
            "0.988\n",
            "racall\n",
            "0.819\n",
            "f1score\n",
            "0.896\n"
          ]
        }
      ]
    },
    {
      "cell_type": "code",
      "source": [
        "testdata = pd.read_csv('/content/drive/MyDrive/i-d-master/classical/predictedlabelNB.txt', header=None)\n",
        "\n",
        "\n",
        "\n",
        "y_train1 = traindata\n",
        "y_pred = testdata\n",
        "accuracy = accuracy_score(y_train1, y_pred)\n",
        "recall = recall_score(y_train1, y_pred , average=\"binary\")\n",
        "precision = precision_score(y_train1, y_pred , average=\"binary\")\n",
        "f1 = f1_score(y_train1, y_pred, average=\"binary\")\n",
        "\n",
        "print(\"NBresults\")\n",
        "print(\"accuracy\")\n",
        "print(\"%.3f\" %accuracy)\n",
        "print(\"precision\")\n",
        "print(\"%.3f\" %precision)\n",
        "print(\"racall\")\n",
        "print(\"%.3f\" %recall)\n",
        "print(\"f1score\")\n",
        "print(\"%.3f\" %f1)"
      ],
      "metadata": {
        "colab": {
          "base_uri": "https://localhost:8080/"
        },
        "id": "9wuaza7dPI4Z",
        "outputId": "bbed6523-8bf9-47bb-c759-2f71af94f133"
      },
      "execution_count": 8,
      "outputs": [
        {
          "output_type": "stream",
          "name": "stdout",
          "text": [
            "NBresults\n",
            "accuracy\n",
            "0.929\n",
            "precision\n",
            "0.988\n",
            "racall\n",
            "0.923\n",
            "f1score\n",
            "0.955\n"
          ]
        }
      ]
    },
    {
      "cell_type": "code",
      "source": [
        "testdata = pd.read_csv('/content/drive/MyDrive/i-d-master/classical/predictedlabelRF.txt', header=None)\n",
        "\n",
        "\n",
        "\n",
        "y_train1 = traindata\n",
        "y_pred = testdata\n",
        "accuracy = accuracy_score(y_train1, y_pred)\n",
        "recall = recall_score(y_train1, y_pred , average=\"binary\")\n",
        "precision = precision_score(y_train1, y_pred , average=\"binary\")\n",
        "f1 = f1_score(y_train1, y_pred, average=\"binary\")\n",
        "\n",
        "print(\"RFresults\")\n",
        "print(\"accuracy\")\n",
        "print(\"%.3f\" %accuracy)\n",
        "print(\"precision\")\n",
        "print(\"%.3f\" %precision)\n",
        "print(\"racall\")\n",
        "print(\"%.3f\" %recall)\n",
        "print(\"f1score\")\n",
        "print(\"%.3f\" %f1)\n"
      ],
      "metadata": {
        "colab": {
          "base_uri": "https://localhost:8080/"
        },
        "id": "OH49eX1TPL3U",
        "outputId": "422a1425-9c7a-4a87-a89a-11c65602fbf0"
      },
      "execution_count": 9,
      "outputs": [
        {
          "output_type": "stream",
          "name": "stdout",
          "text": [
            "RFresults\n",
            "accuracy\n",
            "0.926\n",
            "precision\n",
            "0.999\n",
            "racall\n",
            "0.909\n",
            "f1score\n",
            "0.952\n"
          ]
        }
      ]
    },
    {
      "cell_type": "code",
      "source": [
        "testdata = pd.read_csv('/content/drive/MyDrive/i-d-master/classical/predictedlabelSVM-linear.txt', header=None)\n",
        "\n",
        "\n",
        "\n",
        "y_train1 = traindata\n",
        "y_pred = testdata\n",
        "accuracy = accuracy_score(y_train1, y_pred)\n",
        "recall = recall_score(y_train1, y_pred , average=\"binary\")\n",
        "precision = precision_score(y_train1, y_pred , average=\"binary\")\n",
        "f1 = f1_score(y_train1, y_pred, average=\"binary\")\n",
        "\n",
        "print(\"SVM-linearresults\")\n",
        "print(\"accuracy\")\n",
        "print(\"%.3f\" %accuracy)\n",
        "print(\"precision\")\n",
        "print(\"%.3f\" %precision)\n",
        "print(\"racall\")\n",
        "print(\"%.3f\" %recall)\n",
        "print(\"f1score\")\n",
        "print(\"%.3f\" %f1)\n"
      ],
      "metadata": {
        "colab": {
          "base_uri": "https://localhost:8080/"
        },
        "id": "OY54I-gRR0pp",
        "outputId": "0c12891e-73a0-4f77-b9d9-ce2addcaacbc"
      },
      "execution_count": 10,
      "outputs": [
        {
          "output_type": "stream",
          "name": "stdout",
          "text": [
            "SVM-linearresults\n",
            "accuracy\n",
            "0.811\n",
            "precision\n",
            "0.994\n",
            "racall\n",
            "0.770\n",
            "f1score\n",
            "0.868\n"
          ]
        }
      ]
    },
    {
      "cell_type": "code",
      "source": [
        "testdata = pd.read_csv('/content/drive/MyDrive/i-d-master/classical/predictedlabelSVM-rbf.txt', header=None)\n",
        "\n",
        "\n",
        "\n",
        "y_train1 = traindata\n",
        "y_pred = testdata\n",
        "accuracy = accuracy_score(y_train1, y_pred)\n",
        "recall = recall_score(y_train1, y_pred , average=\"binary\")\n",
        "precision = precision_score(y_train1, y_pred , average=\"binary\")\n",
        "f1 = f1_score(y_train1, y_pred, average=\"binary\")\n",
        "\n",
        "print(\"SVM-rbfresults\")\n",
        "print(\"accuracy\")\n",
        "print(\"%.3f\" %accuracy)\n",
        "print(\"precision\")\n",
        "print(\"%.3f\" %precision)\n",
        "print(\"racall\")\n",
        "print(\"%.3f\" %recall)\n",
        "print(\"f1score\")\n",
        "print(\"%.3f\" %f1)\n"
      ],
      "metadata": {
        "colab": {
          "base_uri": "https://localhost:8080/"
        },
        "id": "nKo1ET1hR182",
        "outputId": "d955ffa0-9e80-4961-d6c3-219269893f53"
      },
      "execution_count": 11,
      "outputs": [
        {
          "output_type": "stream",
          "name": "stdout",
          "text": [
            "SVM-rbfresults\n",
            "accuracy\n",
            "0.811\n",
            "precision\n",
            "0.992\n",
            "racall\n",
            "0.772\n",
            "f1score\n",
            "0.868\n"
          ]
        }
      ]
    }
  ]
}